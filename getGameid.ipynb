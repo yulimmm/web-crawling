{
 "cells": [
  {
   "cell_type": "code",
   "execution_count": 30,
   "metadata": {},
   "outputs": [
    {
     "name": "stdout",
     "output_type": "stream",
     "text": [
      "['20230502HHOB0', '20230502KTSK0', '20230502WOSS0', '20230502LGNC0', '20230502LTHT0', '20230503HHOB0', '20230503KTSK0', '20230503WOSS0', '20230503LGNC0', '20230503LTHT0', '20230504HHOB0', '20230504KTSK0', '20230504WOSS0', '20230505SKWO0', '20230506SKWO0', '20230507LGOB0', '20230507SKWO0', '20230507KTHH0', '20230509WOLG0', '20230509OBLT0', '20230509NCKT0', '20230509SKHT0', '20230509SSHH0', '20230510WOLG0', '20230510OBLT0', '20230510NCKT0', '20230510SKHT0', '20230510SSHH0', '20230511WOLG0', '20230511OBLT0', '20230511NCKT0', '20230511SKHT0', '20230511SSHH0', '20230512HTOB0', '20230512HHSK0', '20230512LGSS0', '20230512LTKT0', '20230512NCWO0', '20230513HTOB0', '20230513HHSK0', '20230513LGSS0', '20230513LTKT0', '20230513NCWO0', '20230514HTOB0', '20230514HHSK0', '20230514LGSS0', '20230514LTKT0', '20230514NCWO0', '20230516KTLG0', '20230516HTSS0', '20230516SKNC0', '20230516OBWO0', '20230516LTHH0', '20230517KTLG0', '20230517HTSS0', '20230517SKNC0', '20230517OBWO0', '20230517LTHH0', '20230518KTLG0', '20230518OBWO0', '20230518LTHH0', '20230519HHLG0', '20230519SKLT0', '20230519SSNC0', '20230519OBKT0', '20230519WOHT0', '20230520HHLG0', '20230520SKLT0', '20230520SSNC0', '20230520OBKT0', '20230520WOHT0', '20230521HHLG0', '20230521SKLT0', '20230521SSNC0', '20230521OBKT0', '20230521WOHT0', '20230523SSOB0', '20230523LGSK0', '20230523NCLT0', '20230523WOKT0', '20230523HTHH0', '20230524SSOB0', '20230524LGSK0', '20230524NCLT0', '20230524WOKT0', '20230524HTHH0', '20230525SSOB0', '20230525LGSK0', '20230525NCLT0', '20230525WOKT0', '20230525HTHH0', '20230526SKOB0', '20230526KTSS0', '20230526HHNC0', '20230526LGHT0', '20230526LTWO0', '20230527KTSS0', '20230527HHNC0', '20230527LGHT0', '20230527LTWO0', '20230528KTSS0', '20230528LGHT0', '20230528LTWO0', '20230530LTLG0', '20230530SSSK0', '20230530OBNC0', '20230530KTHT0', '20230530WOHH0', '20230531LTLG0', '20230531SSSK0', '20230531OBNC0', '20230531KTHT0', '20230531WOHH0']\n"
     ]
    }
   ],
   "source": [
    "import pandas as pd\n",
    "import requests\n",
    "import json\n",
    "\n",
    "getSchedulList = requests.get('https://www.koreabaseball.com/ws/Schedule.asmx/GetScheduleList?leId=1&srIdList=0%2C9%2C6&seasonId=2023&gameMonth=05&teamId=')\n",
    "json_data = getSchedulList.json()\n",
    "#print(json_data)\n",
    "\n",
    "gameid_list = []\n",
    "\n",
    "# gameid 추출\n",
    "for i in range(len(json_data['rows'])):\n",
    "    game_id = json_data['rows'][i]['row'][3]['Text']\n",
    "    if game_id != \"\":\n",
    "        game_id = json_data['rows'][i]['row'][3]['Text'].split('gameId=')[1].split('&')[0]\n",
    "        gameid_list.append(game_id)\n",
    "\n",
    "print(gameid_list)"
   ]
  },
  {
   "cell_type": "code",
   "execution_count": 36,
   "metadata": {},
   "outputs": [],
   "source": [
    "import pandas as pd\n",
    "import requests\n",
    "import json\n",
    "\n",
    "gameid_data = []\n",
    "\n",
    "for month in range(4, 11):\n",
    "    getSchedulList = requests.get(f'https://www.koreabaseball.com/ws/Schedule.asmx/GetScheduleList?leId=1&srIdList=0%2C9%2C6&seasonId=2023&gameMonth=0{month}&teamId=')\n",
    "\n",
    "    json_data = getSchedulList.json()\n",
    "\n",
    "    gameid_list = []\n",
    "\n",
    "    # gameid 추출\n",
    "    for i in range(len(json_data['rows'])):\n",
    "        game_id = json_data['rows'][i]['row'][3]['Text']\n",
    "        if game_id != \"\":\n",
    "            game_id = game_id.split('gameId=')[1].split('&')[0]\n",
    "            gameid_list.append(game_id)\n",
    "\n",
    "    gameid_data.extend(gameid_list)\n",
    "\n",
    "df = pd.DataFrame({'gameid': gameid_data})\n",
    "df.to_excel('2023gameid.xlsx', index=False)"
   ]
  }
 ],
 "metadata": {
  "kernelspec": {
   "display_name": "Python 3",
   "language": "python",
   "name": "python3"
  },
  "language_info": {
   "codemirror_mode": {
    "name": "ipython",
    "version": 3
   },
   "file_extension": ".py",
   "mimetype": "text/x-python",
   "name": "python",
   "nbconvert_exporter": "python",
   "pygments_lexer": "ipython3",
   "version": "3.9.7"
  }
 },
 "nbformat": 4,
 "nbformat_minor": 2
}
