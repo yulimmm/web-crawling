{
 "cells": [
  {
   "cell_type": "code",
   "execution_count": 15,
   "metadata": {},
   "outputs": [],
   "source": [
    "import pandas as pd\n",
    "import requests\n",
    "from bs4 import BeautifulSoup\n",
    "\n",
    "df_list = []\n",
    "\n",
    "for month in range(4,11):\n",
    "    response = requests.get(f'https://www.weather.go.kr/w/obs-climate/land/past-obs/obs-by-day.do?stn=108&yy=2023&mm={month}&obs=1')\n",
    "    weather2023html = response.text\n",
    "    soup = BeautifulSoup(weather2023html, 'html.parser')\n",
    "    \n",
    "    weather_data = []\n",
    "    date = 1\n",
    "\n",
    "    for tr in soup.find_all('tr'):\n",
    "        span_list = tr.find_all('span')\n",
    "        if span_list:\n",
    "            for span in span_list:\n",
    "                if '평균기온' in span.get_text():\n",
    "                    average_temp = span.get_text(strip=True).split(':')[1]\n",
    "                    weather_data.append({'date': date, '평균기온': average_temp})\n",
    "                    \n",
    "                    df = pd.DataFrame({\n",
    "                        '월' : [month],\n",
    "                        '일' : [date],\n",
    "                        '평균 기온' : [average_temp]\n",
    "                    })\n",
    "                    df_list.append(df)\n",
    "                    date+=1\n",
    "\n",
    "result_df = pd.concat(df_list, ignore_index=True)\n",
    "result_df.to_excel('2023temp.xlsx', index=False)"
   ]
  }
 ],
 "metadata": {
  "kernelspec": {
   "display_name": "Python 3",
   "language": "python",
   "name": "python3"
  },
  "language_info": {
   "codemirror_mode": {
    "name": "ipython",
    "version": 3
   },
   "file_extension": ".py",
   "mimetype": "text/x-python",
   "name": "python",
   "nbconvert_exporter": "python",
   "pygments_lexer": "ipython3",
   "version": "3.9.7"
  }
 },
 "nbformat": 4,
 "nbformat_minor": 2
}
