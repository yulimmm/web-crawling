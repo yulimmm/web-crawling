{
 "cells": [
  {
   "cell_type": "code",
   "execution_count": 15,
   "metadata": {},
   "outputs": [
    {
     "data": {
      "text/plain": [
       "[]"
      ]
     },
     "execution_count": 15,
     "metadata": {},
     "output_type": "execute_result"
    }
   ],
   "source": [
    "import requests\n",
    "from bs4 import BeautifulSoup\n",
    "\n",
    "response = requests.get('https://weather.naver.com/')\n",
    "html = response.text\n",
    "soup = BeautifulSoup(html, 'html.parser')\n",
    "\n",
    "soup.select(\"div#past tbody\")"
   ]
  },
  {
   "cell_type": "code",
   "execution_count": 16,
   "metadata": {},
   "outputs": [
    {
     "name": "stdout",
     "output_type": "stream",
     "text": [
      "{'4월': [], '5월': [], '6월': [], '7월': [], '8월': [], '9월': [], '10월': [], '11월': []}\n"
     ]
    }
   ],
   "source": [
    "from selenium import webdriver\n",
    "from bs4 import BeautifulSoup\n",
    "\n",
    "# Chrome 브라우저 실행\n",
    "driver = webdriver.Chrome()\n",
    "\n",
    "# 네이버 날씨 페이지 접속\n",
    "driver.get('https://weather.naver.com/')\n",
    "\n",
    "# BeautifulSoup으로 HTML 파싱\n",
    "html = driver.page_source\n",
    "soup = BeautifulSoup(html, 'html.parser')\n",
    "\n",
    "weather_data = {}\n",
    "\n",
    "for month in range(4, 12):\n",
    "    month_key = f\"{month}월\"\n",
    "    weather_data[month_key] = []\n",
    "    \n",
    "    # 월 선택\n",
    "    month_select = soup.find('select', {'title': '월을 선택하세요'})\n",
    "    if month_select:\n",
    "        month_select.find('option', {'selected': True})['selected'] = None\n",
    "        month_option = month_select.find('option', {'value': f\"{month:02d}\"})\n",
    "        if month_option:\n",
    "            month_option['selected'] = \"selected\"\n",
    "\n",
    "            # 페이지 소스 업데이트\n",
    "            html = driver.page_source\n",
    "            soup = BeautifulSoup(html, 'html.parser')\n",
    "\n",
    "            # 날씨 정보 수집\n",
    "            for tr in soup.select('.calendar_table tbody tr'):\n",
    "                day = tr.find('span', {'class': 'calendar_day'}).text.strip()\n",
    "                high_temp = tr.find('span', {'class': 'calendar_temperature'}).text.split('최고기온')[1].strip()\n",
    "                low_temp = tr.find_all('span', {'class': 'calendar_temperature'})[1].text.split('최저기온')[1].strip()\n",
    "                weather_data[month_key].append({'일': day, '최고기온': high_temp, '최저기온': low_temp})\n",
    "\n",
    "print(weather_data)\n",
    "\n",
    "# 브라우저 닫기\n",
    "driver.quit()"
   ]
  }
 ],
 "metadata": {
  "kernelspec": {
   "display_name": "Python 3",
   "language": "python",
   "name": "python3"
  },
  "language_info": {
   "codemirror_mode": {
    "name": "ipython",
    "version": 3
   },
   "file_extension": ".py",
   "mimetype": "text/x-python",
   "name": "python",
   "nbconvert_exporter": "python",
   "pygments_lexer": "ipython3",
   "version": "3.9.7"
  }
 },
 "nbformat": 4,
 "nbformat_minor": 2
}
