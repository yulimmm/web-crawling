{
 "cells": [
  {
   "cell_type": "code",
   "execution_count": 56,
   "metadata": {},
   "outputs": [],
   "source": [
    "import pandas as pd\n",
    "import requests\n",
    "import json\n",
    "\n",
    "df_excel = pd.read_excel('2023gameid.xlsx')\n",
    "game_ids = df_excel['gameid'].tolist()\n",
    "\n",
    "df_list = []\n",
    "\n",
    "for g_id in game_ids:\n",
    "    url = f\"https://www.koreabaseball.com/ws/Schedule.asmx/GetScoreBoardScroll?leId=1&srId=0&seasonId=2023&gameId={g_id}\"\n",
    "    response = requests.get(url)\n",
    "    json_data = response.json()\n",
    "\n",
    "    g_id = json_data['G_ID']\n",
    "    g_dt = json_data['G_DT']\n",
    "    s_nm = json_data['S_NM']\n",
    "    home_nm = json_data['HOME_NM']\n",
    "    away_nm = json_data['AWAY_NM']\n",
    "\n",
    "    # H 값 가져오기\n",
    "    home_h = json.loads(json_data['table3'])['rows'][0]['row'][1]['Text']\n",
    "    away_h = json.loads(json_data['table3'])['rows'][1]['row'][1]['Text']\n",
    "\n",
    "    # 데이터프레임 생성\n",
    "    df = pd.DataFrame({\n",
    "        '날짜': [g_dt],\n",
    "        '게임 아이디': [g_id],\n",
    "        '장소': [s_nm],\n",
    "        '홈 팀': [home_nm],\n",
    "        '원정 팀': [away_nm],\n",
    "        '홈팀 H': [home_h],\n",
    "        '원정팀 H': [away_h]\n",
    "    })\n",
    "    \n",
    "    if s_nm == \"잠실\":\n",
    "        df_list.append(df)\n",
    "\n",
    "result_df = pd.concat(df_list, ignore_index=True)\n",
    "result_df.to_excel('jamsilgame.xlsx', index=False)"
   ]
  },
  {
   "cell_type": "code",
   "execution_count": 91,
   "metadata": {},
   "outputs": [
    {
     "name": "stdout",
     "output_type": "stream",
     "text": [
      "team 1:  ['47', '14', '10', '10', '0.298']\n",
      "team 2:  ['38', '12', '11', '12', '0.316']\n"
     ]
    }
   ],
   "source": [
    "import pandas as pd\n",
    "import requests\n",
    "import json\n",
    "\n",
    "df_excel = pd.read_excel('2023gameid.xlsx')\n",
    "game_ids = df_excel['gameid'].tolist()\n",
    "\n",
    "df_list = []\n",
    "\n",
    "url = f\"https://www.koreabaseball.com/ws/Schedule.asmx/GetBoxScoreScroll?leId=1&srId=0&seasonId=2023&gameId=20230401LTOB0\"\n",
    "response = requests.get(url)\n",
    "json_data = response.json()\n",
    "\n",
    "HittData = json_data['arrHitter'][0]['table3'] #결과가 문자열임. \n",
    "jsonHittData = json.loads(HittData) #json 포맷으로 바꿈. \n",
    "tfoot_row = jsonHittData['tfoot'][0]['row']\n",
    "values = [item['Text'] for item in tfoot_row]\n",
    "print(\"team 1: \",values)\n",
    "\n",
    "HittData = json_data['arrHitter'][1]['table3']  \n",
    "jsonHittData = json.loads(HittData) \n",
    "tfoot_row = jsonHittData['tfoot'][0]['row']\n",
    "values = [item['Text'] for item in tfoot_row]\n",
    "print(\"team 2: \", values)\n"
   ]
  },
  {
   "cell_type": "code",
   "execution_count": 96,
   "metadata": {},
   "outputs": [
    {
     "name": "stdout",
     "output_type": "stream",
     "text": [
      "             날짜         게임 아이디  타수  안타  타점  득점     타율\n",
      "0    2023-04-01  20230401LTOB0  47  14  10  10  0.298\n",
      "1    2023-04-01  20230401LTOB0  38  12  11  12  0.316\n",
      "2    2023-04-02  20230402LTOB0  31   5   2   2  0.244\n",
      "3    2023-04-02  20230402LTOB0  32   6   0   0  0.257\n",
      "4    2023-04-04  20230404NCOB0  26   2   0   0  0.275\n",
      "..          ...            ...  ..  ..  ..  ..    ...\n",
      "283  2023-10-14  20231014OBLG0  31   6   2   2  0.280\n",
      "284  2023-10-15  20231015OBLG0  31   6   2   2  0.256\n",
      "285  2023-10-15  20231015OBLG0  26   6   5   5  0.279\n",
      "286  2023-10-16  20231016SKOB0  30   6   3   3  0.259\n",
      "287  2023-10-16  20231016SKOB0  30   5   2   2  0.255\n",
      "\n",
      "[288 rows x 7 columns]\n"
     ]
    }
   ],
   "source": [
    "import pandas as pd\n",
    "import requests\n",
    "import json\n",
    "\n",
    "df_excel = pd.read_excel('jamsilgame.xlsx')\n",
    "game_ids = df_excel['게임 아이디'].tolist()\n",
    "dates = df_excel['날짜'].tolist()\n",
    "\n",
    "df_list = []\n",
    "n = 0\n",
    "\n",
    "for g_id in game_ids:\n",
    "    url = f\"https://www.koreabaseball.com/ws/Schedule.asmx/GetBoxScoreScroll?leId=1&srId=0&seasonId=2023&gameId={g_id}\"\n",
    "\n",
    "    response = requests.get(url)\n",
    "    json_data = response.json()\n",
    "\n",
    "    T1HittData = json_data['arrHitter'][0]['table3'] #결과가 문자열임. \n",
    "    jsonT1HittData = json.loads(T1HittData) #json 포맷으로 바꿈. \n",
    "    T1tfoot_row = jsonT1HittData['tfoot'][0]['row']\n",
    "    T1values = [item['Text'] for item in T1tfoot_row]\n",
    "    #print(\"team 1: \",T1values)\n",
    "    \n",
    "    df = pd.DataFrame({\n",
    "        '날짜': [dates[n]],\n",
    "        '게임 아이디': [g_id],\n",
    "        '타수': [T1values[0]],\n",
    "        '안타': [T1values[1]],\n",
    "        '타점': [T1values[2]],\n",
    "        '득점': [T1values[3]],\n",
    "        '타율': [T1values[4]]\n",
    "    })\n",
    "    df_list.append(df)\n",
    "\n",
    "    T2HittData = json_data['arrHitter'][1]['table3']  \n",
    "    jsonT2HittData = json.loads(T2HittData) \n",
    "    T2tfoot_row = jsonT2HittData['tfoot'][0]['row']\n",
    "    T2values = [item['Text'] for item in T2tfoot_row]\n",
    "    #print(\"team 2: \", T2values)\n",
    "    \n",
    "    df = pd.DataFrame({\n",
    "        '날짜': [dates[n]],\n",
    "        '게임 아이디': [g_id],\n",
    "        '타수': [T2values[0]],\n",
    "        '안타': [T2values[1]],\n",
    "        '타점': [T2values[2]],\n",
    "        '득점': [T2values[3]],\n",
    "        '타율': [T2values[4]]\n",
    "    })\n",
    "    \n",
    "    df_list.append(df)\n",
    "    n=n+1\n",
    "   \n",
    "result_df = pd.concat(df_list, ignore_index = True)\n",
    "print(result_df)\n",
    "\n",
    "result_df.to_excel('jamsilgame_hits.xlsx', index=False)"
   ]
  },
  {
   "cell_type": "code",
   "execution_count": 95,
   "metadata": {},
   "outputs": [
    {
     "name": "stdout",
     "output_type": "stream",
     "text": [
      "2023-04-01\n"
     ]
    }
   ],
   "source": [
    "df_excel = pd.read_excel('jamsilgame.xlsx')\n",
    "dates = df_excel['날짜'].tolist()\n",
    "\n",
    "print(dates[0])"
   ]
  }
 ],
 "metadata": {
  "kernelspec": {
   "display_name": "Python 3",
   "language": "python",
   "name": "python3"
  },
  "language_info": {
   "codemirror_mode": {
    "name": "ipython",
    "version": 3
   },
   "file_extension": ".py",
   "mimetype": "text/x-python",
   "name": "python",
   "nbconvert_exporter": "python",
   "pygments_lexer": "ipython3",
   "version": "3.9.7"
  }
 },
 "nbformat": 4,
 "nbformat_minor": 2
}
