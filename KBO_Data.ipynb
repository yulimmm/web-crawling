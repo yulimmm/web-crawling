{
 "cells": [
  {
   "cell_type": "code",
   "execution_count": 56,
   "metadata": {},
   "outputs": [],
   "source": [
    "import pandas as pd\n",
    "import requests\n",
    "import json\n",
    "\n",
    "df_excel = pd.read_excel('2023gameid.xlsx')\n",
    "game_ids = df_excel['gameid'].tolist()\n",
    "\n",
    "df_list = []\n",
    "\n",
    "for g_id in game_ids:\n",
    "    url = f\"https://www.koreabaseball.com/ws/Schedule.asmx/GetScoreBoardScroll?leId=1&srId=0&seasonId=2023&gameId={g_id}\"\n",
    "    response = requests.get(url)\n",
    "    json_data = response.json()\n",
    "\n",
    "    g_id = json_data['G_ID']\n",
    "    g_dt = json_data['G_DT']\n",
    "    s_nm = json_data['S_NM']\n",
    "    home_nm = json_data['HOME_NM']\n",
    "    away_nm = json_data['AWAY_NM']\n",
    "\n",
    "    # H 값 가져오기\n",
    "    home_h = json.loads(json_data['table3'])['rows'][0]['row'][1]['Text']\n",
    "    away_h = json.loads(json_data['table3'])['rows'][1]['row'][1]['Text']\n",
    "\n",
    "    # 데이터프레임 생성\n",
    "    df = pd.DataFrame({\n",
    "        '날짜': [g_dt],\n",
    "        '게임 아이디': [g_id],\n",
    "        '장소': [s_nm],\n",
    "        '홈 팀': [home_nm],\n",
    "        '원정 팀': [away_nm],\n",
    "        '홈팀 H': [home_h],\n",
    "        '원정팀 H': [away_h]\n",
    "    })\n",
    "    \n",
    "    if s_nm == \"잠실\":\n",
    "        df_list.append(df)\n",
    "\n",
    "result_df = pd.concat(df_list, ignore_index=True)\n",
    "result_df.to_excel('jamsilgame.xlsx', index=False)"
   ]
  }
 ],
 "metadata": {
  "kernelspec": {
   "display_name": "Python 3",
   "language": "python",
   "name": "python3"
  },
  "language_info": {
   "codemirror_mode": {
    "name": "ipython",
    "version": 3
   },
   "file_extension": ".py",
   "mimetype": "text/x-python",
   "name": "python",
   "nbconvert_exporter": "python",
   "pygments_lexer": "ipython3",
   "version": "3.9.7"
  }
 },
 "nbformat": 4,
 "nbformat_minor": 2
}
